{
 "cells": [
  {
   "cell_type": "code",
   "execution_count": 1,
   "metadata": {},
   "outputs": [],
   "source": [
    "from pyspark.sql import SparkSession\n",
    "spark=SparkSession.builder.appName('Practise').getOrCreate()"
   ]
  },
  {
   "cell_type": "code",
   "execution_count": 2,
   "metadata": {},
   "outputs": [],
   "source": [
    "df_pyspark=spark.read.csv('test2.csv',header=True,inferSchema=True)"
   ]
  },
  {
   "cell_type": "code",
   "execution_count": 3,
   "metadata": {},
   "outputs": [
    {
     "name": "stdout",
     "output_type": "stream",
     "text": [
      "root\n",
      " |-- Name: string (nullable = true)\n",
      " |-- age: integer (nullable = true)\n",
      " |-- Experience: integer (nullable = true)\n",
      " |-- Salary: integer (nullable = true)\n",
      "\n"
     ]
    }
   ],
   "source": [
    "df_pyspark.printSchema()"
   ]
  },
  {
   "cell_type": "code",
   "execution_count": 4,
   "metadata": {},
   "outputs": [
    {
     "name": "stdout",
     "output_type": "stream",
     "text": [
      "+--------+----+----------+------+\n",
      "|    Name| age|Experience|Salary|\n",
      "+--------+----+----------+------+\n",
      "|Debarjun|  21|         3| 30000|\n",
      "|   Arjun|  22|         2| 25000|\n",
      "|   Karan|  25|         1| 20000|\n",
      "|      Om|  20|         2| 20000|\n",
      "|   Omkar|  19|         1| 15000|\n",
      "|   Tanay|  18|         2| 18000|\n",
      "|  Mayank|NULL|      NULL| 40000|\n",
      "|    NULL|  24|         1| 38000|\n",
      "|    NULL|  26|      NULL|  NULL|\n",
      "+--------+----+----------+------+\n",
      "\n"
     ]
    }
   ],
   "source": [
    "df_pyspark.show()"
   ]
  },
  {
   "cell_type": "code",
   "execution_count": 5,
   "metadata": {},
   "outputs": [
    {
     "name": "stdout",
     "output_type": "stream",
     "text": [
      "+--------+---+----------+------+\n",
      "|    Name|age|Experience|Salary|\n",
      "+--------+---+----------+------+\n",
      "|Debarjun| 21|         3| 30000|\n",
      "|   Arjun| 22|         2| 25000|\n",
      "|   Karan| 25|         1| 20000|\n",
      "|      Om| 20|         2| 20000|\n",
      "|   Omkar| 19|         1| 15000|\n",
      "|   Tanay| 18|         2| 18000|\n",
      "+--------+---+----------+------+\n",
      "\n"
     ]
    }
   ],
   "source": [
    "df_pyspark.na.drop().show()"
   ]
  },
  {
   "cell_type": "code",
   "execution_count": 6,
   "metadata": {},
   "outputs": [
    {
     "name": "stdout",
     "output_type": "stream",
     "text": [
      "+--------+---+----------+------+\n",
      "|    Name|age|Experience|Salary|\n",
      "+--------+---+----------+------+\n",
      "|Debarjun| 21|         3| 30000|\n",
      "|   Arjun| 22|         2| 25000|\n",
      "|   Karan| 25|         1| 20000|\n",
      "|      Om| 20|         2| 20000|\n",
      "|   Omkar| 19|         1| 15000|\n",
      "|   Tanay| 18|         2| 18000|\n",
      "+--------+---+----------+------+\n",
      "\n"
     ]
    }
   ],
   "source": [
    "### any==how\n",
    "df_pyspark.na.drop(how=\"any\").show()"
   ]
  },
  {
   "cell_type": "code",
   "execution_count": 9,
   "metadata": {},
   "outputs": [
    {
     "name": "stdout",
     "output_type": "stream",
     "text": [
      "+--------+---+----------+------+\n",
      "|    Name|age|Experience|Salary|\n",
      "+--------+---+----------+------+\n",
      "|Debarjun| 21|         3| 30000|\n",
      "|   Arjun| 22|         2| 25000|\n",
      "|   Karan| 25|         1| 20000|\n",
      "|      Om| 20|         2| 20000|\n",
      "|   Omkar| 19|         1| 15000|\n",
      "|   Tanay| 18|         2| 18000|\n",
      "|    NULL| 24|         1| 38000|\n",
      "+--------+---+----------+------+\n",
      "\n"
     ]
    }
   ],
   "source": [
    "##threshold\n",
    "df_pyspark.na.drop(how=\"any\",thresh=3).show()"
   ]
  },
  {
   "cell_type": "code",
   "execution_count": 10,
   "metadata": {},
   "outputs": [
    {
     "name": "stdout",
     "output_type": "stream",
     "text": [
      "+--------+---+----------+------+\n",
      "|    Name|age|Experience|Salary|\n",
      "+--------+---+----------+------+\n",
      "|Debarjun| 21|         3| 30000|\n",
      "|   Arjun| 22|         2| 25000|\n",
      "|   Karan| 25|         1| 20000|\n",
      "|      Om| 20|         2| 20000|\n",
      "|   Omkar| 19|         1| 15000|\n",
      "|   Tanay| 18|         2| 18000|\n",
      "|    NULL| 24|         1| 38000|\n",
      "|    NULL| 26|      NULL|  NULL|\n",
      "+--------+---+----------+------+\n",
      "\n"
     ]
    }
   ],
   "source": [
    "##Subset\n",
    "df_pyspark.na.drop(how=\"any\",subset=['Age']).show()"
   ]
  },
  {
   "cell_type": "code",
   "execution_count": 11,
   "metadata": {},
   "outputs": [],
   "source": [
    "from pyspark.ml.feature import Imputer\n",
    "\n",
    "imputer = Imputer(\n",
    "    inputCols=['age', 'Experience', 'Salary'], \n",
    "    outputCols=[\"{}_imputed\".format(c) for c in ['age', 'Experience', 'Salary']]\n",
    "    ).setStrategy(\"median\")"
   ]
  },
  {
   "cell_type": "code",
   "execution_count": 12,
   "metadata": {},
   "outputs": [
    {
     "name": "stdout",
     "output_type": "stream",
     "text": [
      "+--------+----+----------+------+-----------+------------------+--------------+\n",
      "|    Name| age|Experience|Salary|age_imputed|Experience_imputed|Salary_imputed|\n",
      "+--------+----+----------+------+-----------+------------------+--------------+\n",
      "|Debarjun|  21|         3| 30000|         21|                 3|         30000|\n",
      "|   Arjun|  22|         2| 25000|         22|                 2|         25000|\n",
      "|   Karan|  25|         1| 20000|         25|                 1|         20000|\n",
      "|      Om|  20|         2| 20000|         20|                 2|         20000|\n",
      "|   Omkar|  19|         1| 15000|         19|                 1|         15000|\n",
      "|   Tanay|  18|         2| 18000|         18|                 2|         18000|\n",
      "|  Mayank|NULL|      NULL| 40000|         21|                 2|         40000|\n",
      "|    NULL|  24|         1| 38000|         24|                 1|         38000|\n",
      "|    NULL|  26|      NULL|  NULL|         26|                 2|         20000|\n",
      "+--------+----+----------+------+-----------+------------------+--------------+\n",
      "\n"
     ]
    }
   ],
   "source": [
    "imputer.fit(df_pyspark).transform(df_pyspark).show()"
   ]
  },
  {
   "cell_type": "code",
   "execution_count": 13,
   "metadata": {},
   "outputs": [],
   "source": [
    "imputer = Imputer(\n",
    "    inputCols=['age', 'Experience', 'Salary'], \n",
    "    outputCols=[\"{}_imputed\".format(c) for c in ['age', 'Experience', 'Salary']]\n",
    "    ).setStrategy(\"mean\")"
   ]
  },
  {
   "cell_type": "code",
   "execution_count": 14,
   "metadata": {},
   "outputs": [
    {
     "name": "stdout",
     "output_type": "stream",
     "text": [
      "+--------+----+----------+------+-----------+------------------+--------------+\n",
      "|    Name| age|Experience|Salary|age_imputed|Experience_imputed|Salary_imputed|\n",
      "+--------+----+----------+------+-----------+------------------+--------------+\n",
      "|Debarjun|  21|         3| 30000|         21|                 3|         30000|\n",
      "|   Arjun|  22|         2| 25000|         22|                 2|         25000|\n",
      "|   Karan|  25|         1| 20000|         25|                 1|         20000|\n",
      "|      Om|  20|         2| 20000|         20|                 2|         20000|\n",
      "|   Omkar|  19|         1| 15000|         19|                 1|         15000|\n",
      "|   Tanay|  18|         2| 18000|         18|                 2|         18000|\n",
      "|  Mayank|NULL|      NULL| 40000|         21|                 1|         40000|\n",
      "|    NULL|  24|         1| 38000|         24|                 1|         38000|\n",
      "|    NULL|  26|      NULL|  NULL|         26|                 1|         25750|\n",
      "+--------+----+----------+------+-----------+------------------+--------------+\n",
      "\n"
     ]
    }
   ],
   "source": [
    "imputer.fit(df_pyspark).transform(df_pyspark).show()"
   ]
  },
  {
   "cell_type": "code",
   "execution_count": 15,
   "metadata": {},
   "outputs": [],
   "source": [
    "imputer = Imputer(\n",
    "    inputCols=['age', 'Experience', 'Salary'], \n",
    "    outputCols=[\"{}_imputed\".format(c) for c in ['age', 'Experience', 'Salary']]\n",
    "    ).setStrategy(\"mode\")"
   ]
  },
  {
   "cell_type": "code",
   "execution_count": 16,
   "metadata": {},
   "outputs": [
    {
     "name": "stdout",
     "output_type": "stream",
     "text": [
      "+--------+----+----------+------+-----------+------------------+--------------+\n",
      "|    Name| age|Experience|Salary|age_imputed|Experience_imputed|Salary_imputed|\n",
      "+--------+----+----------+------+-----------+------------------+--------------+\n",
      "|Debarjun|  21|         3| 30000|         21|                 3|         30000|\n",
      "|   Arjun|  22|         2| 25000|         22|                 2|         25000|\n",
      "|   Karan|  25|         1| 20000|         25|                 1|         20000|\n",
      "|      Om|  20|         2| 20000|         20|                 2|         20000|\n",
      "|   Omkar|  19|         1| 15000|         19|                 1|         15000|\n",
      "|   Tanay|  18|         2| 18000|         18|                 2|         18000|\n",
      "|  Mayank|NULL|      NULL| 40000|         18|                 1|         40000|\n",
      "|    NULL|  24|         1| 38000|         24|                 1|         38000|\n",
      "|    NULL|  26|      NULL|  NULL|         26|                 1|         20000|\n",
      "+--------+----+----------+------+-----------+------------------+--------------+\n",
      "\n"
     ]
    }
   ],
   "source": [
    "imputer.fit(df_pyspark).transform(df_pyspark).show()"
   ]
  },
  {
   "cell_type": "code",
   "execution_count": null,
   "metadata": {},
   "outputs": [],
   "source": []
  }
 ],
 "metadata": {
  "kernelspec": {
   "display_name": "Python 3",
   "language": "python",
   "name": "python3"
  },
  "language_info": {
   "codemirror_mode": {
    "name": "ipython",
    "version": 3
   },
   "file_extension": ".py",
   "mimetype": "text/x-python",
   "name": "python",
   "nbconvert_exporter": "python",
   "pygments_lexer": "ipython3",
   "version": "3.11.5"
  }
 },
 "nbformat": 4,
 "nbformat_minor": 2
}
